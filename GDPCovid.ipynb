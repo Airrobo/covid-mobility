{
  "nbformat": 4,
  "nbformat_minor": 0,
  "metadata": {
    "colab": {
      "name": "GDPCovid.ipynb",
      "provenance": [],
      "toc_visible": true
    },
    "kernelspec": {
      "name": "python3",
      "display_name": "Python 3"
    }
  },
  "cells": [
    {
      "cell_type": "markdown",
      "metadata": {
        "id": "whc0ZUUo4b0Z"
      },
      "source": [
        "# Reading Data from GDrive"
      ]
    },
    {
      "cell_type": "code",
      "metadata": {
        "id": "aL-WYsLY3TX6",
        "colab": {
          "base_uri": "https://localhost:8080/"
        },
        "outputId": "3bac4d68-906f-4a7d-9e92-eab92920196b"
      },
      "source": [
        "from google.colab import drive\n",
        "\n",
        "drive.mount('/content/gdrive')"
      ],
      "execution_count": null,
      "outputs": [
        {
          "output_type": "stream",
          "text": [
            "Drive already mounted at /content/gdrive; to attempt to forcibly remount, call drive.mount(\"/content/gdrive\", force_remount=True).\n"
          ],
          "name": "stdout"
        }
      ]
    },
    {
      "cell_type": "code",
      "metadata": {
        "id": "hBRhllTs4SL7"
      },
      "source": [
        "!ls"
      ],
      "execution_count": null,
      "outputs": []
    },
    {
      "cell_type": "code",
      "metadata": {
        "id": "aA-7Gdxk4bFO"
      },
      "source": [
        "import pandas as pd\n",
        "import numpy as np\n",
        "import seaborn as sns\n",
        "import matplotlib.pyplot as plt\n",
        "\n",
        "gdp = pd.read_csv('/content/gdrive/My Drive/Columbia Data Science Hackathon/WorldBankGDP.csv')\n",
        "stringency = pd.read_csv('/content/gdrive/My Drive/Columbia Data Science Hackathon/OxfordCovid.csv')\n",
        "fuel = pd.read_csv('/content/gdrive/My Drive/Columbia Data Science Hackathon/CovidFuelUsage.csv')\n",
        "\n",
        "countryNames= stringency.iloc[:,0]\n",
        "\n",
        "stringency = stringency[stringency.Date > 20200831]\n",
        "stringency = stringency[stringency.Date < 20200918]\n",
        "#stringency = stringency.groupby('CountryName').mean()\n",
        "stringency = stringency.groupby('CountryName', as_index=False).mean()"
      ],
      "execution_count": null,
      "outputs": []
    },
    {
      "cell_type": "code",
      "metadata": {
        "id": "eVvgm3rd1dWF",
        "colab": {
          "base_uri": "https://localhost:8080/"
        },
        "outputId": "709c9019-e40c-44ca-d0da-a29b8af4f50c"
      },
      "source": [
        "countryNames.drop_duplicates()\n",
        "countryNames.sort_values()\n",
        "print(countryNames)\n",
        "\n"
      ],
      "execution_count": null,
      "outputs": [
        {
          "output_type": "stream",
          "text": [
            "0           Aruba\n",
            "1           Aruba\n",
            "2           Aruba\n",
            "3           Aruba\n",
            "4           Aruba\n",
            "           ...   \n",
            "63378    Zimbabwe\n",
            "63379    Zimbabwe\n",
            "63380    Zimbabwe\n",
            "63381    Zimbabwe\n",
            "63382    Zimbabwe\n",
            "Name: CountryName, Length: 63383, dtype: object\n"
          ],
          "name": "stdout"
        }
      ]
    },
    {
      "cell_type": "code",
      "metadata": {
        "id": "cThd0DWp6x9n",
        "colab": {
          "base_uri": "https://localhost:8080/"
        },
        "outputId": "a60228dc-de98-403b-aad3-47483c64fc5d"
      },
      "source": [
        "stringency.head()\n",
        "stringency.info()"
      ],
      "execution_count": null,
      "outputs": [
        {
          "output_type": "stream",
          "text": [
            "<class 'pandas.core.frame.DataFrame'>\n",
            "Int64Index: 185 entries, 0 to 184\n",
            "Data columns (total 41 columns):\n",
            " #   Column                                 Non-Null Count  Dtype  \n",
            "---  ------                                 --------------  -----  \n",
            " 0   CountryName                            185 non-null    object \n",
            " 1   Date                                   185 non-null    int64  \n",
            " 2   C1_School closing                      182 non-null    float64\n",
            " 3   C1_Flag                                141 non-null    float64\n",
            " 4   C2_Workplace closing                   181 non-null    float64\n",
            " 5   C2_Flag                                147 non-null    float64\n",
            " 6   C3_Cancel public events                181 non-null    float64\n",
            " 7   C3_Flag                                153 non-null    float64\n",
            " 8   C4_Restrictions on gatherings          182 non-null    float64\n",
            " 9   C4_Flag                                150 non-null    float64\n",
            " 10  C5_Close public transport              182 non-null    float64\n",
            " 11  C5_Flag                                76 non-null     float64\n",
            " 12  C6_Stay at home requirements           182 non-null    float64\n",
            " 13  C6_Flag                                113 non-null    float64\n",
            " 14  C7_Restrictions on internal movement   182 non-null    float64\n",
            " 15  C7_Flag                                102 non-null    float64\n",
            " 16  C8_International travel controls       181 non-null    float64\n",
            " 17  E1_Income support                      182 non-null    float64\n",
            " 18  E1_Flag                                128 non-null    float64\n",
            " 19  E2_Debt/contract relief                178 non-null    float64\n",
            " 20  E3_Fiscal measures                     177 non-null    float64\n",
            " 21  E4_International support               177 non-null    float64\n",
            " 22  H1_Public information campaigns        181 non-null    float64\n",
            " 23  H1_Flag                                180 non-null    float64\n",
            " 24  H2_Testing policy                      181 non-null    float64\n",
            " 25  H3_Contact tracing                     181 non-null    float64\n",
            " 26  H4_Emergency investment in healthcare  176 non-null    float64\n",
            " 27  H5_Investment in vaccines              176 non-null    float64\n",
            " 28  M1_Wildcard                            0 non-null      float64\n",
            " 29  ConfirmedCases                         179 non-null    float64\n",
            " 30  ConfirmedDeaths                        179 non-null    float64\n",
            " 31  StringencyIndex                        182 non-null    float64\n",
            " 32  StringencyIndexForDisplay              185 non-null    float64\n",
            " 33  StringencyLegacyIndex                  182 non-null    float64\n",
            " 34  StringencyLegacyIndexForDisplay        185 non-null    float64\n",
            " 35  GovernmentResponseIndex                179 non-null    float64\n",
            " 36  GovernmentResponseIndexForDisplay      184 non-null    float64\n",
            " 37  ContainmentHealthIndex                 181 non-null    float64\n",
            " 38  ContainmentHealthIndexForDisplay       184 non-null    float64\n",
            " 39  EconomicSupportIndex                   178 non-null    float64\n",
            " 40  EconomicSupportIndexForDisplay         180 non-null    float64\n",
            "dtypes: float64(39), int64(1), object(1)\n",
            "memory usage: 60.7+ KB\n"
          ],
          "name": "stdout"
        }
      ]
    },
    {
      "cell_type": "markdown",
      "metadata": {
        "id": "tlAhAyaL61Vo"
      },
      "source": [
        "# Merging Datasets"
      ]
    },
    {
      "cell_type": "code",
      "metadata": {
        "id": "EUSYANvu63ze",
        "colab": {
          "base_uri": "https://localhost:8080/",
          "height": 737
        },
        "outputId": "ce922cf5-4a0f-4bcf-81a8-cf987582ba71"
      },
      "source": [
        "data = pd.merge(gdp[['Country Name', '2019']], stringency[['CountryName','StringencyIndex']], left_on='Country Name', right_on='CountryName')\n",
        "\n",
        "data.describe()\n",
        "print(data.corr())\n",
        "sns.heatmap(data.corr())\n",
        "\n",
        "data.head(100)"
      ],
      "execution_count": null,
      "outputs": [
        {
          "output_type": "stream",
          "text": [
            "                     2019  StringencyIndex\n",
            "2019             1.000000         0.076879\n",
            "StringencyIndex  0.076879         1.000000\n"
          ],
          "name": "stdout"
        },
        {
          "output_type": "execute_result",
          "data": {
            "text/html": [
              "<div>\n",
              "<style scoped>\n",
              "    .dataframe tbody tr th:only-of-type {\n",
              "        vertical-align: middle;\n",
              "    }\n",
              "\n",
              "    .dataframe tbody tr th {\n",
              "        vertical-align: top;\n",
              "    }\n",
              "\n",
              "    .dataframe thead th {\n",
              "        text-align: right;\n",
              "    }\n",
              "</style>\n",
              "<table border=\"1\" class=\"dataframe\">\n",
              "  <thead>\n",
              "    <tr style=\"text-align: right;\">\n",
              "      <th></th>\n",
              "      <th>Country Name</th>\n",
              "      <th>2019</th>\n",
              "      <th>CountryName</th>\n",
              "      <th>StringencyIndex</th>\n",
              "    </tr>\n",
              "  </thead>\n",
              "  <tbody>\n",
              "    <tr>\n",
              "      <th>0</th>\n",
              "      <td>Aruba</td>\n",
              "      <td>NaN</td>\n",
              "      <td>Aruba</td>\n",
              "      <td>60.3025</td>\n",
              "    </tr>\n",
              "    <tr>\n",
              "      <th>1</th>\n",
              "      <td>Afghanistan</td>\n",
              "      <td>1.910135e+10</td>\n",
              "      <td>Afghanistan</td>\n",
              "      <td>21.3000</td>\n",
              "    </tr>\n",
              "    <tr>\n",
              "      <th>2</th>\n",
              "      <td>Angola</td>\n",
              "      <td>9.463542e+10</td>\n",
              "      <td>Angola</td>\n",
              "      <td>81.0200</td>\n",
              "    </tr>\n",
              "    <tr>\n",
              "      <th>3</th>\n",
              "      <td>Albania</td>\n",
              "      <td>1.527808e+10</td>\n",
              "      <td>Albania</td>\n",
              "      <td>54.6300</td>\n",
              "    </tr>\n",
              "    <tr>\n",
              "      <th>4</th>\n",
              "      <td>Andorra</td>\n",
              "      <td>3.154058e+09</td>\n",
              "      <td>Andorra</td>\n",
              "      <td>41.6700</td>\n",
              "    </tr>\n",
              "    <tr>\n",
              "      <th>...</th>\n",
              "      <td>...</td>\n",
              "      <td>...</td>\n",
              "      <td>...</td>\n",
              "      <td>...</td>\n",
              "    </tr>\n",
              "    <tr>\n",
              "      <th>95</th>\n",
              "      <td>Mali</td>\n",
              "      <td>1.751014e+10</td>\n",
              "      <td>Mali</td>\n",
              "      <td>47.2200</td>\n",
              "    </tr>\n",
              "    <tr>\n",
              "      <th>96</th>\n",
              "      <td>Myanmar</td>\n",
              "      <td>7.608585e+10</td>\n",
              "      <td>Myanmar</td>\n",
              "      <td>81.4800</td>\n",
              "    </tr>\n",
              "    <tr>\n",
              "      <th>97</th>\n",
              "      <td>Mongolia</td>\n",
              "      <td>1.385285e+10</td>\n",
              "      <td>Mongolia</td>\n",
              "      <td>49.0700</td>\n",
              "    </tr>\n",
              "    <tr>\n",
              "      <th>98</th>\n",
              "      <td>Mozambique</td>\n",
              "      <td>1.493416e+10</td>\n",
              "      <td>Mozambique</td>\n",
              "      <td>62.0400</td>\n",
              "    </tr>\n",
              "    <tr>\n",
              "      <th>99</th>\n",
              "      <td>Mauritania</td>\n",
              "      <td>7.593752e+09</td>\n",
              "      <td>Mauritania</td>\n",
              "      <td>22.2200</td>\n",
              "    </tr>\n",
              "  </tbody>\n",
              "</table>\n",
              "<p>100 rows × 4 columns</p>\n",
              "</div>"
            ],
            "text/plain": [
              "   Country Name          2019  CountryName  StringencyIndex\n",
              "0         Aruba           NaN        Aruba          60.3025\n",
              "1   Afghanistan  1.910135e+10  Afghanistan          21.3000\n",
              "2        Angola  9.463542e+10       Angola          81.0200\n",
              "3       Albania  1.527808e+10      Albania          54.6300\n",
              "4       Andorra  3.154058e+09      Andorra          41.6700\n",
              "..          ...           ...          ...              ...\n",
              "95         Mali  1.751014e+10         Mali          47.2200\n",
              "96      Myanmar  7.608585e+10      Myanmar          81.4800\n",
              "97     Mongolia  1.385285e+10     Mongolia          49.0700\n",
              "98   Mozambique  1.493416e+10   Mozambique          62.0400\n",
              "99   Mauritania  7.593752e+09   Mauritania          22.2200\n",
              "\n",
              "[100 rows x 4 columns]"
            ]
          },
          "metadata": {
            "tags": []
          },
          "execution_count": 17
        },
        {
          "output_type": "display_data",
          "data": {
            "image/png": "[encoded data removed]",
            "text/plain": [
              "<Figure size 432x288 with 2 Axes>"
            ]
          },
          "metadata": {
            "tags": []
          }
        }
      ]
    },
    {
      "cell_type": "code",
      "metadata": {
        "id": "cDv0WlUdxXMK",
        "colab": {
          "base_uri": "https://localhost:8080/",
          "height": 304
        },
        "outputId": "b3ed3313-4a98-4bc4-d198-6ed4b6b338cd"
      },
      "source": [
        "\n",
        "\n",
        "sns.scatterplot(x=data['2019'], y=data['StringencyIndex'])"
      ],
      "execution_count": null,
      "outputs": [
        {
          "output_type": "execute_result",
          "data": {
            "text/plain": [
              "<matplotlib.axes._subplots.AxesSubplot at 0x7fd6caccacc0>"
            ]
          },
          "metadata": {
            "tags": []
          },
          "execution_count": 18
        },
        {
          "output_type": "display_data",
          "data": {
            "image/png": "[encoded data removed]",
            "text/plain": [
              "<Figure size 432x288 with 1 Axes>"
            ]
          },
          "metadata": {
            "tags": []
          }
        }
      ]
    },
    {
      "cell_type": "code",
      "metadata": {
        "id": "guRAtbLZx4x6",
        "colab": {
          "base_uri": "https://localhost:8080/",
          "height": 419
        },
        "outputId": "d7a42653-f1d7-4f5b-b7c5-cd8553f70511"
      },
      "source": [
        "fuel.sort_values(by =['date'])"
      ],
      "execution_count": null,
      "outputs": [
        {
          "output_type": "execute_result",
          "data": {
            "text/html": [
              "<div>\n",
              "<style scoped>\n",
              "    .dataframe tbody tr th:only-of-type {\n",
              "        vertical-align: middle;\n",
              "    }\n",
              "\n",
              "    .dataframe tbody tr th {\n",
              "        vertical-align: top;\n",
              "    }\n",
              "\n",
              "    .dataframe thead th {\n",
              "        text-align: right;\n",
              "    }\n",
              "</style>\n",
              "<table border=\"1\" class=\"dataframe\">\n",
              "  <thead>\n",
              "    <tr style=\"text-align: right;\">\n",
              "      <th></th>\n",
              "      <th>date</th>\n",
              "      <th>vehicle_class</th>\n",
              "      <th>percent_of_normal_volume</th>\n",
              "      <th>version</th>\n",
              "    </tr>\n",
              "  </thead>\n",
              "  <tbody>\n",
              "    <tr>\n",
              "      <th>113</th>\n",
              "      <td>2020-03-13</td>\n",
              "      <td>Passenger</td>\n",
              "      <td>102.29</td>\n",
              "      <td>1.0</td>\n",
              "    </tr>\n",
              "    <tr>\n",
              "      <th>156</th>\n",
              "      <td>2020-03-14</td>\n",
              "      <td>Passenger</td>\n",
              "      <td>100.10</td>\n",
              "      <td>1.0</td>\n",
              "    </tr>\n",
              "    <tr>\n",
              "      <th>100</th>\n",
              "      <td>2020-03-15</td>\n",
              "      <td>Passenger</td>\n",
              "      <td>93.75</td>\n",
              "      <td>1.0</td>\n",
              "    </tr>\n",
              "    <tr>\n",
              "      <th>170</th>\n",
              "      <td>2020-03-16</td>\n",
              "      <td>Passenger</td>\n",
              "      <td>92.85</td>\n",
              "      <td>1.0</td>\n",
              "    </tr>\n",
              "    <tr>\n",
              "      <th>84</th>\n",
              "      <td>2020-03-17</td>\n",
              "      <td>Passenger</td>\n",
              "      <td>87.16</td>\n",
              "      <td>1.0</td>\n",
              "    </tr>\n",
              "    <tr>\n",
              "      <th>...</th>\n",
              "      <td>...</td>\n",
              "      <td>...</td>\n",
              "      <td>...</td>\n",
              "      <td>...</td>\n",
              "    </tr>\n",
              "    <tr>\n",
              "      <th>34</th>\n",
              "      <td>2020-09-12</td>\n",
              "      <td>Passenger</td>\n",
              "      <td>79.34</td>\n",
              "      <td>1.0</td>\n",
              "    </tr>\n",
              "    <tr>\n",
              "      <th>132</th>\n",
              "      <td>2020-09-13</td>\n",
              "      <td>Passenger</td>\n",
              "      <td>66.54</td>\n",
              "      <td>1.0</td>\n",
              "    </tr>\n",
              "    <tr>\n",
              "      <th>87</th>\n",
              "      <td>2020-09-14</td>\n",
              "      <td>Passenger</td>\n",
              "      <td>88.93</td>\n",
              "      <td>1.0</td>\n",
              "    </tr>\n",
              "    <tr>\n",
              "      <th>36</th>\n",
              "      <td>2020-09-15</td>\n",
              "      <td>Passenger</td>\n",
              "      <td>90.89</td>\n",
              "      <td>1.0</td>\n",
              "    </tr>\n",
              "    <tr>\n",
              "      <th>83</th>\n",
              "      <td>2020-09-16</td>\n",
              "      <td>Passenger</td>\n",
              "      <td>88.34</td>\n",
              "      <td>1.0</td>\n",
              "    </tr>\n",
              "  </tbody>\n",
              "</table>\n",
              "<p>188 rows × 4 columns</p>\n",
              "</div>"
            ],
            "text/plain": [
              "           date vehicle_class  percent_of_normal_volume  version\n",
              "113  2020-03-13     Passenger                    102.29      1.0\n",
              "156  2020-03-14     Passenger                    100.10      1.0\n",
              "100  2020-03-15     Passenger                     93.75      1.0\n",
              "170  2020-03-16     Passenger                     92.85      1.0\n",
              "84   2020-03-17     Passenger                     87.16      1.0\n",
              "..          ...           ...                       ...      ...\n",
              "34   2020-09-12     Passenger                     79.34      1.0\n",
              "132  2020-09-13     Passenger                     66.54      1.0\n",
              "87   2020-09-14     Passenger                     88.93      1.0\n",
              "36   2020-09-15     Passenger                     90.89      1.0\n",
              "83   2020-09-16     Passenger                     88.34      1.0\n",
              "\n",
              "[188 rows x 4 columns]"
            ]
          },
          "metadata": {
            "tags": []
          },
          "execution_count": 19
        }
      ]
    },
    {
      "cell_type": "markdown",
      "metadata": {
        "id": "Xr2qnxnkbqFX"
      },
      "source": [
        "# Corona Cases and Traffic Congestion City"
      ]
    },
    {
      "cell_type": "code",
      "metadata": {
        "id": "wBsB0FDnbpMu",
        "colab": {
          "base_uri": "https://localhost:8080/",
          "height": 204
        },
        "outputId": "a80876d6-22ee-4c71-f88e-5ee9eae6bb15"
      },
      "source": [
        "congestion = pd.read_csv('/content/gdrive/My Drive/Columbia Data Science Hackathon/congestion.csv')\n",
        "coronaCases = pd.read_csv('/content/gdrive/My Drive/Columbia Data Science Hackathon/coronaCounty.csv')\n",
        "combined = pd.merge(congestion, coronaCases, how='left', left_on=['state_name', 'date_time'], right_on=['state_name', 'date'])\n",
        "\n",
        "\n",
        "coronaCongestion = pd.read_csv('/content/gdrive/My Drive/Columbia Data Science Hackathon/NYC12AM.csv')\n",
        "coronaCongestion.head()"
      ],
      "execution_count": null,
      "outputs": [
        {
          "output_type": "execute_result",
          "data": {
            "text/html": [
              "<div>\n",
              "<style scoped>\n",
              "    .dataframe tbody tr th:only-of-type {\n",
              "        vertical-align: middle;\n",
              "    }\n",
              "\n",
              "    .dataframe tbody tr th {\n",
              "        vertical-align: top;\n",
              "    }\n",
              "\n",
              "    .dataframe thead th {\n",
              "        text-align: right;\n",
              "    }\n",
              "</style>\n",
              "<table border=\"1\" class=\"dataframe\">\n",
              "  <thead>\n",
              "    <tr style=\"text-align: right;\">\n",
              "      <th></th>\n",
              "      <th>state_name</th>\n",
              "      <th>county_name</th>\n",
              "      <th>city_name</th>\n",
              "      <th>date_time</th>\n",
              "      <th>time</th>\n",
              "      <th>percent_congestion</th>\n",
              "      <th>daily_confirmed_cases</th>\n",
              "    </tr>\n",
              "  </thead>\n",
              "  <tbody>\n",
              "    <tr>\n",
              "      <th>0</th>\n",
              "      <td>New York</td>\n",
              "      <td>New York City</td>\n",
              "      <td>New York</td>\n",
              "      <td>3/1/2020</td>\n",
              "      <td>12:00:00 AM</td>\n",
              "      <td>22.324213</td>\n",
              "      <td>1</td>\n",
              "    </tr>\n",
              "    <tr>\n",
              "      <th>1</th>\n",
              "      <td>New York</td>\n",
              "      <td>New York City</td>\n",
              "      <td>New York</td>\n",
              "      <td>3/2/2020</td>\n",
              "      <td>12:00:00 AM</td>\n",
              "      <td>18.082261</td>\n",
              "      <td>0</td>\n",
              "    </tr>\n",
              "    <tr>\n",
              "      <th>2</th>\n",
              "      <td>New York</td>\n",
              "      <td>New York City</td>\n",
              "      <td>New York</td>\n",
              "      <td>3/3/2020</td>\n",
              "      <td>12:00:00 AM</td>\n",
              "      <td>11.723681</td>\n",
              "      <td>1</td>\n",
              "    </tr>\n",
              "    <tr>\n",
              "      <th>3</th>\n",
              "      <td>New York</td>\n",
              "      <td>New York City</td>\n",
              "      <td>New York</td>\n",
              "      <td>3/4/2020</td>\n",
              "      <td>12:00:00 AM</td>\n",
              "      <td>10.128714</td>\n",
              "      <td>0</td>\n",
              "    </tr>\n",
              "    <tr>\n",
              "      <th>4</th>\n",
              "      <td>New York</td>\n",
              "      <td>New York City</td>\n",
              "      <td>New York</td>\n",
              "      <td>3/5/2020</td>\n",
              "      <td>12:00:00 AM</td>\n",
              "      <td>13.139277</td>\n",
              "      <td>2</td>\n",
              "    </tr>\n",
              "  </tbody>\n",
              "</table>\n",
              "</div>"
            ],
            "text/plain": [
              "  state_name    county_name  ... percent_congestion daily_confirmed_cases\n",
              "0   New York  New York City  ...          22.324213                     1\n",
              "1   New York  New York City  ...          18.082261                     0\n",
              "2   New York  New York City  ...          11.723681                     1\n",
              "3   New York  New York City  ...          10.128714                     0\n",
              "4   New York  New York City  ...          13.139277                     2\n",
              "\n",
              "[5 rows x 7 columns]"
            ]
          },
          "metadata": {
            "tags": []
          },
          "execution_count": 21
        }
      ]
    },
    {
      "cell_type": "code",
      "metadata": {
        "id": "DgdtEmbAb_xP"
      },
      "source": [
        "print(coronaCongestion.corr())"
      ],
      "execution_count": null,
      "outputs": []
    },
    {
      "cell_type": "code",
      "metadata": {
        "id": "qaUHBNDFb_j9",
        "colab": {
          "base_uri": "https://localhost:8080/",
          "height": 306
        },
        "outputId": "82175898-2168-4c11-de71-4dc0a1616028"
      },
      "source": [
        "sns.scatterplot(x=coronaCongestion['daily_confirmed_cases'], y=coronaCongestion['percent_congestion'])"
      ],
      "execution_count": null,
      "outputs": [
        {
          "output_type": "execute_result",
          "data": {
            "text/plain": [
              "<matplotlib.axes._subplots.AxesSubplot at 0x7fd6cac611d0>"
            ]
          },
          "metadata": {
            "tags": []
          },
          "execution_count": 22
        },
        {
          "output_type": "display_data",
          "data": {
            "image/png": "[encoded data removed]",
            "text/plain": [
              "<Figure size 432x288 with 1 Axes>"
            ]
          },
          "metadata": {
            "tags": []
          }
        }
      ]
    },
    {
      "cell_type": "markdown",
      "metadata": {
        "id": "6z7yeS8Xt3uj"
      },
      "source": [
        "We use K-means clustering to show different "
      ]
    },
    {
      "cell_type": "code",
      "metadata": {
        "id": "JRFDebjOtcCg",
        "colab": {
          "base_uri": "https://localhost:8080/",
          "height": 301
        },
        "outputId": "c6240b69-7505-4199-924c-f8939bd583fe"
      },
      "source": [
        "#Making clusters\n",
        "import matplotlib.pyplot as plt\n",
        "import seaborn as sns; sns.set()  #for plot styling\n",
        "import numpy as np\n",
        "from sklearn.cluster import KMeans\n",
        "\n",
        "coronaCongestion.dropna()\n",
        "kmeans = KMeans(n_clusters=3)\n",
        "cases =coronaCongestion[['daily_confirmed_cases','percent_congestion']]\n",
        "kmeans.fit(cases)\n",
        "y_kmeans=kmeans.predict(cases)\n",
        "\n",
        "plt.scatter(cases['daily_confirmed_cases'], cases['percent_congestion'], c=y_kmeans, s=50, cmap='Greens')\n",
        "plt.xlabel('Daily Confirmed Cases, NYC')\n",
        "plt.ylabel('Traffic Congestion, NYC')\n",
        "plt.title('Covid Cases on Urban Traffic Congestion, NYC')\n",
        "plt.show()\n"
      ],
      "execution_count": null,
      "outputs": [
        {
          "output_type": "display_data",
          "data": {
            "image/png": "[encoded data removed]",
            "text/plain": [
              "<Figure size 432x288 with 1 Axes>"
            ]
          },
          "metadata": {
            "tags": []
          }
        }
      ]
    }
  ]
}